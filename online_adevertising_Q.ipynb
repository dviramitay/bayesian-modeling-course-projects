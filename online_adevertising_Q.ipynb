{
  "cells": [
    {
      "cell_type": "code",
      "execution_count": 1,
      "id": "6ae86a60-e7da-4eea-8762-3626a339be5b",
      "metadata": {
        "id": "6ae86a60-e7da-4eea-8762-3626a339be5b"
      },
      "outputs": [],
      "source": [
        "import numpy as np\n",
        "import matplotlib.pyplot as plt\n",
        "import pickle as pkl"
      ]
    },
    {
      "cell_type": "markdown",
      "id": "0b01e74c-bc63-4789-aa6d-5afbc865dbf9",
      "metadata": {
        "id": "0b01e74c-bc63-4789-aa6d-5afbc865dbf9"
      },
      "source": [
        "## Online advertising\n",
        "\n",
        "### You are in charge of online advertising.\n",
        "\n",
        "### Your company has five different types of commercials that it can use.\n",
        "### There are 50000 attempts for advertising, and of course, advertising costs money.\n",
        "### The income can come from a single advertisement and can be any integer from 0 to 20.\n",
        "\n",
        "# Tasks\n",
        "### 1. (4%) Please suggest a strategy for choosing which commercial to use each time. Please code it.\n",
        "### 2. (2%) Please track the number of commercials used for each type and plot a histogram.\n",
        "### 3. (4%) Which commercial type was used the most? Giving the true probabilities for each possible value for each commercial, does this result make sense? Explain!\n"
      ]
    },
    {
      "cell_type": "code",
      "execution_count": 8,
      "id": "f13c3700-e39f-456f-b5c7-afe29f5391c2",
      "metadata": {
        "colab": {
          "base_uri": "https://localhost:8080/"
        },
        "id": "f13c3700-e39f-456f-b5c7-afe29f5391c2",
        "outputId": "dd61ac94-2187-4660-f847-d42b5de43585"
      },
      "outputs": [
        {
          "output_type": "stream",
          "name": "stdout",
          "text": [
            "Mounted at /content/drive\n"
          ]
        }
      ],
      "source": [
        "from google.colab import drive\n",
        "drive.mount('/content/drive')\n"
      ]
    },
    {
      "cell_type": "code",
      "source": [
        "\n",
        "path = '/content/drive/MyDrive/multi_10.pkl'\n",
        "\n",
        "with open(path, 'rb') as f:\n",
        "    true_probs = pkl.load(f)\n",
        "\n",
        "print(true_probs.shape)\n"
      ],
      "metadata": {
        "colab": {
          "base_uri": "https://localhost:8080/"
        },
        "id": "5h3Lg25FnqKz",
        "outputId": "439f447b-4ce3-4328-ff24-002057bfeb16"
      },
      "id": "5h3Lg25FnqKz",
      "execution_count": 10,
      "outputs": [
        {
          "output_type": "stream",
          "name": "stdout",
          "text": [
            "(5, 21)\n"
          ]
        }
      ]
    },
    {
      "cell_type": "code",
      "execution_count": 11,
      "id": "0955f769-556e-4f22-ac16-e4408f1bc033",
      "metadata": {
        "colab": {
          "base_uri": "https://localhost:8080/"
        },
        "id": "0955f769-556e-4f22-ac16-e4408f1bc033",
        "outputId": "1fa0b9ed-fac4-4c82-a789-a40284373357"
      },
      "outputs": [
        {
          "output_type": "execute_result",
          "data": {
            "text/plain": [
              "array([0.02176621, 0.01219458, 0.00244591, 0.00160134, 0.03878208,\n",
              "       0.02266599, 0.0542579 , 0.00807888, 0.10350097, 0.12591387,\n",
              "       0.02107246, 0.00236244, 0.07184892, 0.18538065, 0.01036151,\n",
              "       0.01721561, 0.05955308, 0.02064723, 0.10175395, 0.00850856,\n",
              "       0.11008785])"
            ]
          },
          "metadata": {},
          "execution_count": 11
        }
      ],
      "source": [
        "true_probs[0,:]"
      ]
    },
    {
      "cell_type": "code",
      "execution_count": 12,
      "id": "1f980e0b-e3c5-400c-8c28-4c351f68fc07",
      "metadata": {
        "colab": {
          "base_uri": "https://localhost:8080/"
        },
        "id": "1f980e0b-e3c5-400c-8c28-4c351f68fc07",
        "outputId": "3d6f08e3-c8ec-4238-e7a2-a1fef0f7d718"
      },
      "outputs": [
        {
          "output_type": "execute_result",
          "data": {
            "text/plain": [
              "np.float64(0.012194583565947886)"
            ]
          },
          "metadata": {},
          "execution_count": 12
        }
      ],
      "source": [
        "true_probs[0,1]"
      ]
    },
    {
      "cell_type": "code",
      "source": [
        "n_ads = true_probs.shape[0]     # מספר פרסומות = 5\n",
        "n_rounds = 50000                # מספר ניסיונות\n",
        "max_reward = 20\n",
        "\n",
        "# אתחול משתנים\n",
        "counts = np.zeros(n_ads)        # מספר הפעמים שכל פרסומת נבחרה\n",
        "sums = np.zeros(n_ads)          # סכום הרווחים לכל פרסומת\n",
        "avg_rewards = np.zeros(n_ads)   # ממוצע הרווחים לכל פרסומת\n",
        "total_rewards = []              # רווח מצטבר כללי\n",
        "chosen_ads = []                 # תיעוד בחירות\n",
        "\n",
        "# התחלה: נבחר כל פרסומת פעם אחת\n",
        "for i in range(n_ads):\n",
        "    reward = np.random.choice(np.arange(21), p=true_probs[i])\n",
        "    counts[i] += 1\n",
        "    sums[i] += reward\n",
        "    avg_rewards[i] = sums[i] / counts[i]\n",
        "    total_rewards.append(reward)\n",
        "    chosen_ads.append(i)\n",
        "\n",
        "# אלגוריתם UCB\n",
        "for t in range(n_ads, n_rounds):\n",
        "    ucb_values = avg_rewards + np.sqrt((2 * np.log(t)) / counts)\n",
        "    chosen_ad = np.argmax(ucb_values)\n",
        "\n",
        "    # סימולציה של הרווח לפי ההתפלגות האמיתית\n",
        "    reward = np.random.choice(np.arange(21), p=true_probs[chosen_ad])\n",
        "\n",
        "    # עדכון משתנים\n",
        "    counts[chosen_ad] += 1\n",
        "    sums[chosen_ad] += reward\n",
        "    avg_rewards[chosen_ad] = sums[chosen_ad] / counts[chosen_ad]\n",
        "\n",
        "    total_rewards.append(reward)\n",
        "    chosen_ads.append(chosen_ad)\n"
      ],
      "metadata": {
        "id": "rNQl7D5ApZZT"
      },
      "id": "rNQl7D5ApZZT",
      "execution_count": 15,
      "outputs": []
    },
    {
      "cell_type": "code",
      "source": [
        "import seaborn as sns\n",
        "import pandas as pd\n",
        "\n",
        "# טבלה מסכמת\n",
        "results_df = pd.DataFrame({\n",
        "    'ad': np.arange(n_ads),\n",
        "    'counts': counts.astype(int),\n",
        "    'avg_reward': avg_rewards,\n",
        "    'total_reward': sums\n",
        "})\n",
        "\n",
        "# הדפסה\n",
        "print(\"טבלת סיכום לבחירות ורווחים:\")\n",
        "display(results_df)\n",
        "\n",
        "# גרף היסטוגרמה\n",
        "plt.figure(figsize=(8, 5))\n",
        "sns.barplot(x='ad', y='counts', data=results_df)\n",
        "plt.title(\"Histogram of Ad Selections (UCB Strategy)\")\n",
        "plt.xlabel(\"Ad Index\")\n",
        "plt.ylabel(\"Number of Selections\")\n",
        "plt.show()\n"
      ],
      "metadata": {
        "colab": {
          "base_uri": "https://localhost:8080/",
          "height": 693
        },
        "id": "uBh5W73fq7dk",
        "outputId": "907e076a-6580-4610-fad8-5e771b0ac1f2"
      },
      "id": "uBh5W73fq7dk",
      "execution_count": 16,
      "outputs": [
        {
          "output_type": "stream",
          "name": "stdout",
          "text": [
            "טבלת סיכום לבחירות ורווחים:\n"
          ]
        },
        {
          "output_type": "display_data",
          "data": {
            "text/plain": [
              "   ad  counts  avg_reward  total_reward\n",
              "0   0   49835   12.022474      599140.0\n",
              "1   1       1    1.000000           1.0\n",
              "2   2       1    1.000000           1.0\n",
              "3   3     156    9.551282        1490.0\n",
              "4   4       7    8.571429          60.0"
            ],
            "text/html": [
              "\n",
              "  <div id=\"df-f95c57bd-8bff-4d3c-a1c3-12d8f2409a83\" class=\"colab-df-container\">\n",
              "    <div>\n",
              "<style scoped>\n",
              "    .dataframe tbody tr th:only-of-type {\n",
              "        vertical-align: middle;\n",
              "    }\n",
              "\n",
              "    .dataframe tbody tr th {\n",
              "        vertical-align: top;\n",
              "    }\n",
              "\n",
              "    .dataframe thead th {\n",
              "        text-align: right;\n",
              "    }\n",
              "</style>\n",
              "<table border=\"1\" class=\"dataframe\">\n",
              "  <thead>\n",
              "    <tr style=\"text-align: right;\">\n",
              "      <th></th>\n",
              "      <th>ad</th>\n",
              "      <th>counts</th>\n",
              "      <th>avg_reward</th>\n",
              "      <th>total_reward</th>\n",
              "    </tr>\n",
              "  </thead>\n",
              "  <tbody>\n",
              "    <tr>\n",
              "      <th>0</th>\n",
              "      <td>0</td>\n",
              "      <td>49835</td>\n",
              "      <td>12.022474</td>\n",
              "      <td>599140.0</td>\n",
              "    </tr>\n",
              "    <tr>\n",
              "      <th>1</th>\n",
              "      <td>1</td>\n",
              "      <td>1</td>\n",
              "      <td>1.000000</td>\n",
              "      <td>1.0</td>\n",
              "    </tr>\n",
              "    <tr>\n",
              "      <th>2</th>\n",
              "      <td>2</td>\n",
              "      <td>1</td>\n",
              "      <td>1.000000</td>\n",
              "      <td>1.0</td>\n",
              "    </tr>\n",
              "    <tr>\n",
              "      <th>3</th>\n",
              "      <td>3</td>\n",
              "      <td>156</td>\n",
              "      <td>9.551282</td>\n",
              "      <td>1490.0</td>\n",
              "    </tr>\n",
              "    <tr>\n",
              "      <th>4</th>\n",
              "      <td>4</td>\n",
              "      <td>7</td>\n",
              "      <td>8.571429</td>\n",
              "      <td>60.0</td>\n",
              "    </tr>\n",
              "  </tbody>\n",
              "</table>\n",
              "</div>\n",
              "    <div class=\"colab-df-buttons\">\n",
              "\n",
              "  <div class=\"colab-df-container\">\n",
              "    <button class=\"colab-df-convert\" onclick=\"convertToInteractive('df-f95c57bd-8bff-4d3c-a1c3-12d8f2409a83')\"\n",
              "            title=\"Convert this dataframe to an interactive table.\"\n",
              "            style=\"display:none;\">\n",
              "\n",
              "  <svg xmlns=\"http://www.w3.org/2000/svg\" height=\"24px\" viewBox=\"0 -960 960 960\">\n",
              "    <path d=\"M120-120v-720h720v720H120Zm60-500h600v-160H180v160Zm220 220h160v-160H400v160Zm0 220h160v-160H400v160ZM180-400h160v-160H180v160Zm440 0h160v-160H620v160ZM180-180h160v-160H180v160Zm440 0h160v-160H620v160Z\"/>\n",
              "  </svg>\n",
              "    </button>\n",
              "\n",
              "  <style>\n",
              "    .colab-df-container {\n",
              "      display:flex;\n",
              "      gap: 12px;\n",
              "    }\n",
              "\n",
              "    .colab-df-convert {\n",
              "      background-color: #E8F0FE;\n",
              "      border: none;\n",
              "      border-radius: 50%;\n",
              "      cursor: pointer;\n",
              "      display: none;\n",
              "      fill: #1967D2;\n",
              "      height: 32px;\n",
              "      padding: 0 0 0 0;\n",
              "      width: 32px;\n",
              "    }\n",
              "\n",
              "    .colab-df-convert:hover {\n",
              "      background-color: #E2EBFA;\n",
              "      box-shadow: 0px 1px 2px rgba(60, 64, 67, 0.3), 0px 1px 3px 1px rgba(60, 64, 67, 0.15);\n",
              "      fill: #174EA6;\n",
              "    }\n",
              "\n",
              "    .colab-df-buttons div {\n",
              "      margin-bottom: 4px;\n",
              "    }\n",
              "\n",
              "    [theme=dark] .colab-df-convert {\n",
              "      background-color: #3B4455;\n",
              "      fill: #D2E3FC;\n",
              "    }\n",
              "\n",
              "    [theme=dark] .colab-df-convert:hover {\n",
              "      background-color: #434B5C;\n",
              "      box-shadow: 0px 1px 3px 1px rgba(0, 0, 0, 0.15);\n",
              "      filter: drop-shadow(0px 1px 2px rgba(0, 0, 0, 0.3));\n",
              "      fill: #FFFFFF;\n",
              "    }\n",
              "  </style>\n",
              "\n",
              "    <script>\n",
              "      const buttonEl =\n",
              "        document.querySelector('#df-f95c57bd-8bff-4d3c-a1c3-12d8f2409a83 button.colab-df-convert');\n",
              "      buttonEl.style.display =\n",
              "        google.colab.kernel.accessAllowed ? 'block' : 'none';\n",
              "\n",
              "      async function convertToInteractive(key) {\n",
              "        const element = document.querySelector('#df-f95c57bd-8bff-4d3c-a1c3-12d8f2409a83');\n",
              "        const dataTable =\n",
              "          await google.colab.kernel.invokeFunction('convertToInteractive',\n",
              "                                                    [key], {});\n",
              "        if (!dataTable) return;\n",
              "\n",
              "        const docLinkHtml = 'Like what you see? Visit the ' +\n",
              "          '<a target=\"_blank\" href=https://colab.research.google.com/notebooks/data_table.ipynb>data table notebook</a>'\n",
              "          + ' to learn more about interactive tables.';\n",
              "        element.innerHTML = '';\n",
              "        dataTable['output_type'] = 'display_data';\n",
              "        await google.colab.output.renderOutput(dataTable, element);\n",
              "        const docLink = document.createElement('div');\n",
              "        docLink.innerHTML = docLinkHtml;\n",
              "        element.appendChild(docLink);\n",
              "      }\n",
              "    </script>\n",
              "  </div>\n",
              "\n",
              "\n",
              "    <div id=\"df-525bff62-71e0-4e58-8954-41f6224e1628\">\n",
              "      <button class=\"colab-df-quickchart\" onclick=\"quickchart('df-525bff62-71e0-4e58-8954-41f6224e1628')\"\n",
              "                title=\"Suggest charts\"\n",
              "                style=\"display:none;\">\n",
              "\n",
              "<svg xmlns=\"http://www.w3.org/2000/svg\" height=\"24px\"viewBox=\"0 0 24 24\"\n",
              "     width=\"24px\">\n",
              "    <g>\n",
              "        <path d=\"M19 3H5c-1.1 0-2 .9-2 2v14c0 1.1.9 2 2 2h14c1.1 0 2-.9 2-2V5c0-1.1-.9-2-2-2zM9 17H7v-7h2v7zm4 0h-2V7h2v10zm4 0h-2v-4h2v4z\"/>\n",
              "    </g>\n",
              "</svg>\n",
              "      </button>\n",
              "\n",
              "<style>\n",
              "  .colab-df-quickchart {\n",
              "      --bg-color: #E8F0FE;\n",
              "      --fill-color: #1967D2;\n",
              "      --hover-bg-color: #E2EBFA;\n",
              "      --hover-fill-color: #174EA6;\n",
              "      --disabled-fill-color: #AAA;\n",
              "      --disabled-bg-color: #DDD;\n",
              "  }\n",
              "\n",
              "  [theme=dark] .colab-df-quickchart {\n",
              "      --bg-color: #3B4455;\n",
              "      --fill-color: #D2E3FC;\n",
              "      --hover-bg-color: #434B5C;\n",
              "      --hover-fill-color: #FFFFFF;\n",
              "      --disabled-bg-color: #3B4455;\n",
              "      --disabled-fill-color: #666;\n",
              "  }\n",
              "\n",
              "  .colab-df-quickchart {\n",
              "    background-color: var(--bg-color);\n",
              "    border: none;\n",
              "    border-radius: 50%;\n",
              "    cursor: pointer;\n",
              "    display: none;\n",
              "    fill: var(--fill-color);\n",
              "    height: 32px;\n",
              "    padding: 0;\n",
              "    width: 32px;\n",
              "  }\n",
              "\n",
              "  .colab-df-quickchart:hover {\n",
              "    background-color: var(--hover-bg-color);\n",
              "    box-shadow: 0 1px 2px rgba(60, 64, 67, 0.3), 0 1px 3px 1px rgba(60, 64, 67, 0.15);\n",
              "    fill: var(--button-hover-fill-color);\n",
              "  }\n",
              "\n",
              "  .colab-df-quickchart-complete:disabled,\n",
              "  .colab-df-quickchart-complete:disabled:hover {\n",
              "    background-color: var(--disabled-bg-color);\n",
              "    fill: var(--disabled-fill-color);\n",
              "    box-shadow: none;\n",
              "  }\n",
              "\n",
              "  .colab-df-spinner {\n",
              "    border: 2px solid var(--fill-color);\n",
              "    border-color: transparent;\n",
              "    border-bottom-color: var(--fill-color);\n",
              "    animation:\n",
              "      spin 1s steps(1) infinite;\n",
              "  }\n",
              "\n",
              "  @keyframes spin {\n",
              "    0% {\n",
              "      border-color: transparent;\n",
              "      border-bottom-color: var(--fill-color);\n",
              "      border-left-color: var(--fill-color);\n",
              "    }\n",
              "    20% {\n",
              "      border-color: transparent;\n",
              "      border-left-color: var(--fill-color);\n",
              "      border-top-color: var(--fill-color);\n",
              "    }\n",
              "    30% {\n",
              "      border-color: transparent;\n",
              "      border-left-color: var(--fill-color);\n",
              "      border-top-color: var(--fill-color);\n",
              "      border-right-color: var(--fill-color);\n",
              "    }\n",
              "    40% {\n",
              "      border-color: transparent;\n",
              "      border-right-color: var(--fill-color);\n",
              "      border-top-color: var(--fill-color);\n",
              "    }\n",
              "    60% {\n",
              "      border-color: transparent;\n",
              "      border-right-color: var(--fill-color);\n",
              "    }\n",
              "    80% {\n",
              "      border-color: transparent;\n",
              "      border-right-color: var(--fill-color);\n",
              "      border-bottom-color: var(--fill-color);\n",
              "    }\n",
              "    90% {\n",
              "      border-color: transparent;\n",
              "      border-bottom-color: var(--fill-color);\n",
              "    }\n",
              "  }\n",
              "</style>\n",
              "\n",
              "      <script>\n",
              "        async function quickchart(key) {\n",
              "          const quickchartButtonEl =\n",
              "            document.querySelector('#' + key + ' button');\n",
              "          quickchartButtonEl.disabled = true;  // To prevent multiple clicks.\n",
              "          quickchartButtonEl.classList.add('colab-df-spinner');\n",
              "          try {\n",
              "            const charts = await google.colab.kernel.invokeFunction(\n",
              "                'suggestCharts', [key], {});\n",
              "          } catch (error) {\n",
              "            console.error('Error during call to suggestCharts:', error);\n",
              "          }\n",
              "          quickchartButtonEl.classList.remove('colab-df-spinner');\n",
              "          quickchartButtonEl.classList.add('colab-df-quickchart-complete');\n",
              "        }\n",
              "        (() => {\n",
              "          let quickchartButtonEl =\n",
              "            document.querySelector('#df-525bff62-71e0-4e58-8954-41f6224e1628 button');\n",
              "          quickchartButtonEl.style.display =\n",
              "            google.colab.kernel.accessAllowed ? 'block' : 'none';\n",
              "        })();\n",
              "      </script>\n",
              "    </div>\n",
              "\n",
              "  <div id=\"id_a0757243-726f-46e8-b8a9-c10052e548b3\">\n",
              "    <style>\n",
              "      .colab-df-generate {\n",
              "        background-color: #E8F0FE;\n",
              "        border: none;\n",
              "        border-radius: 50%;\n",
              "        cursor: pointer;\n",
              "        display: none;\n",
              "        fill: #1967D2;\n",
              "        height: 32px;\n",
              "        padding: 0 0 0 0;\n",
              "        width: 32px;\n",
              "      }\n",
              "\n",
              "      .colab-df-generate:hover {\n",
              "        background-color: #E2EBFA;\n",
              "        box-shadow: 0px 1px 2px rgba(60, 64, 67, 0.3), 0px 1px 3px 1px rgba(60, 64, 67, 0.15);\n",
              "        fill: #174EA6;\n",
              "      }\n",
              "\n",
              "      [theme=dark] .colab-df-generate {\n",
              "        background-color: #3B4455;\n",
              "        fill: #D2E3FC;\n",
              "      }\n",
              "\n",
              "      [theme=dark] .colab-df-generate:hover {\n",
              "        background-color: #434B5C;\n",
              "        box-shadow: 0px 1px 3px 1px rgba(0, 0, 0, 0.15);\n",
              "        filter: drop-shadow(0px 1px 2px rgba(0, 0, 0, 0.3));\n",
              "        fill: #FFFFFF;\n",
              "      }\n",
              "    </style>\n",
              "    <button class=\"colab-df-generate\" onclick=\"generateWithVariable('results_df')\"\n",
              "            title=\"Generate code using this dataframe.\"\n",
              "            style=\"display:none;\">\n",
              "\n",
              "  <svg xmlns=\"http://www.w3.org/2000/svg\" height=\"24px\"viewBox=\"0 0 24 24\"\n",
              "       width=\"24px\">\n",
              "    <path d=\"M7,19H8.4L18.45,9,17,7.55,7,17.6ZM5,21V16.75L18.45,3.32a2,2,0,0,1,2.83,0l1.4,1.43a1.91,1.91,0,0,1,.58,1.4,1.91,1.91,0,0,1-.58,1.4L9.25,21ZM18.45,9,17,7.55Zm-12,3A5.31,5.31,0,0,0,4.9,8.1,5.31,5.31,0,0,0,1,6.5,5.31,5.31,0,0,0,4.9,4.9,5.31,5.31,0,0,0,6.5,1,5.31,5.31,0,0,0,8.1,4.9,5.31,5.31,0,0,0,12,6.5,5.46,5.46,0,0,0,6.5,12Z\"/>\n",
              "  </svg>\n",
              "    </button>\n",
              "    <script>\n",
              "      (() => {\n",
              "      const buttonEl =\n",
              "        document.querySelector('#id_a0757243-726f-46e8-b8a9-c10052e548b3 button.colab-df-generate');\n",
              "      buttonEl.style.display =\n",
              "        google.colab.kernel.accessAllowed ? 'block' : 'none';\n",
              "\n",
              "      buttonEl.onclick = () => {\n",
              "        google.colab.notebook.generateWithVariable('results_df');\n",
              "      }\n",
              "      })();\n",
              "    </script>\n",
              "  </div>\n",
              "\n",
              "    </div>\n",
              "  </div>\n"
            ],
            "application/vnd.google.colaboratory.intrinsic+json": {
              "type": "dataframe",
              "variable_name": "results_df",
              "summary": "{\n  \"name\": \"results_df\",\n  \"rows\": 5,\n  \"fields\": [\n    {\n      \"column\": \"ad\",\n      \"properties\": {\n        \"dtype\": \"number\",\n        \"std\": 1,\n        \"min\": 0,\n        \"max\": 4,\n        \"num_unique_values\": 5,\n        \"samples\": [\n          1,\n          4,\n          2\n        ],\n        \"semantic_type\": \"\",\n        \"description\": \"\"\n      }\n    },\n    {\n      \"column\": \"counts\",\n      \"properties\": {\n        \"dtype\": \"number\",\n        \"std\": 22268,\n        \"min\": 1,\n        \"max\": 49835,\n        \"num_unique_values\": 4,\n        \"samples\": [\n          1,\n          7,\n          49835\n        ],\n        \"semantic_type\": \"\",\n        \"description\": \"\"\n      }\n    },\n    {\n      \"column\": \"avg_reward\",\n      \"properties\": {\n        \"dtype\": \"number\",\n        \"std\": 5.113063675925056,\n        \"min\": 1.0,\n        \"max\": 12.022474164743654,\n        \"num_unique_values\": 4,\n        \"samples\": [\n          1.0,\n          8.571428571428571,\n          12.022474164743654\n        ],\n        \"semantic_type\": \"\",\n        \"description\": \"\"\n      }\n    },\n    {\n      \"column\": \"total_reward\",\n      \"properties\": {\n        \"dtype\": \"number\",\n        \"std\": 267770.79169001983,\n        \"min\": 1.0,\n        \"max\": 599140.0,\n        \"num_unique_values\": 4,\n        \"samples\": [\n          1.0,\n          60.0,\n          599140.0\n        ],\n        \"semantic_type\": \"\",\n        \"description\": \"\"\n      }\n    }\n  ]\n}"
            }
          },
          "metadata": {}
        },
        {
          "output_type": "display_data",
          "data": {
            "text/plain": [
              "<Figure size 800x500 with 1 Axes>"
            ],
            "image/png": "[encoded data removed]"
          },
          "metadata": {}
        }
      ]
    },
    {
      "cell_type": "code",
      "source": [
        "# חישוב תוחלת לכל פרסומת לפי true_probs\n",
        "expected_rewards = true_probs @ np.arange(21)\n",
        "\n",
        "# הצגת תוחלות מול ממוצעים שהמודל אסף בפועל\n",
        "for i in range(n_ads):\n",
        "    print(f\"Ad {i}:\")\n",
        "    print(f\"  True expected reward: {expected_rewards[i]:.4f}\")\n",
        "    print(f\"  Observed avg reward : {avg_rewards[i]:.4f}\")\n",
        "    print(f\"  Times selected      : {int(counts[i])}\")\n",
        "    print()\n",
        "\n",
        "# זיהוי הפרסומת שנבחרה הכי הרבה\n",
        "most_selected = int(np.argmax(counts))\n",
        "print(f\"Most selected ad: {most_selected}\")\n",
        "print(f\"With true expected reward: {expected_rewards[most_selected]:.4f}\")\n",
        "\n",
        "# בדיקה אם זו גם הפרסומת עם התוחלת הכי גבוהה\n",
        "best_expected = int(np.argmax(expected_rewards))\n",
        "print(f\"Ad with highest true expected reward: {best_expected} ({expected_rewards[best_expected]:.4f})\")\n",
        "\n",
        "if most_selected == best_expected:\n",
        "    print(\"✅ The most selected ad matches the one with the highest expected reward – the result makes sense.\")\n",
        "else:\n",
        "    print(\"⚠️ The most selected ad is NOT the one with the highest expected reward – possibly due to variance.\")\n"
      ],
      "metadata": {
        "colab": {
          "base_uri": "https://localhost:8080/"
        },
        "id": "acrwAtzqrEXL",
        "outputId": "da825c13-e413-435a-af4f-d89b4eaec144"
      },
      "id": "acrwAtzqrEXL",
      "execution_count": 17,
      "outputs": [
        {
          "output_type": "stream",
          "name": "stdout",
          "text": [
            "Ad 0:\n",
            "  True expected reward: 12.0447\n",
            "  Observed avg reward : 12.0225\n",
            "  Times selected      : 49835\n",
            "\n",
            "Ad 1:\n",
            "  True expected reward: 10.9104\n",
            "  Observed avg reward : 1.0000\n",
            "  Times selected      : 1\n",
            "\n",
            "Ad 2:\n",
            "  True expected reward: 11.6067\n",
            "  Observed avg reward : 1.0000\n",
            "  Times selected      : 1\n",
            "\n",
            "Ad 3:\n",
            "  True expected reward: 9.3642\n",
            "  Observed avg reward : 9.5513\n",
            "  Times selected      : 156\n",
            "\n",
            "Ad 4:\n",
            "  True expected reward: 8.1757\n",
            "  Observed avg reward : 8.5714\n",
            "  Times selected      : 7\n",
            "\n",
            "Most selected ad: 0\n",
            "With true expected reward: 12.0447\n",
            "Ad with highest true expected reward: 0 (12.0447)\n",
            "✅ The most selected ad matches the one with the highest expected reward – the result makes sense.\n"
          ]
        }
      ]
    },
    {
      "cell_type": "markdown",
      "source": [
        "### Analysis of UCB Selection Strategy\n",
        "\n",
        "The UCB (Upper Confidence Bound) algorithm was applied to select among five commercial types over 50,000 rounds. The results indicate that Ad 0 was selected the vast majority of times (~49,835), while the other ads were rarely chosen.\n",
        "\n",
        "This behavior is consistent with the core principle of UCB, which balances exploration and exploitation by favoring ads with higher empirical averages and greater uncertainty. In this case, Ad 0 had the highest true expected reward (12.0447), and its observed average reward (12.0225) closely matched that value, validating the learning process.\n",
        "\n",
        "The most selected ad was indeed the one with the highest true expected reward, confirming that the algorithm effectively learned to focus on the optimal choice. The rare selection of other ads reflects the strong advantage of Ad 0, which reduced the need for further exploration.\n",
        "\n",
        "This result supports the effectiveness of UCB in identifying and exploiting the best-performing option in a probabilistic reward setting.\n"
      ],
      "metadata": {
        "id": "w1i-MDIOsSpW"
      },
      "id": "w1i-MDIOsSpW"
    },
    {
      "cell_type": "code",
      "source": [],
      "metadata": {
        "id": "zvYgtaoVrP_I"
      },
      "id": "zvYgtaoVrP_I",
      "execution_count": null,
      "outputs": []
    }
  ],
  "metadata": {
    "kernelspec": {
      "display_name": "Python 3",
      "language": "python",
      "name": "python3"
    },
    "language_info": {
      "codemirror_mode": {
        "name": "ipython",
        "version": 3
      },
      "file_extension": ".py",
      "mimetype": "text/x-python",
      "name": "python",
      "nbconvert_exporter": "python",
      "pygments_lexer": "ipython3",
      "version": "3.8.8"
    },
    "colab": {
      "provenance": []
    }
  },
  "nbformat": 4,
  "nbformat_minor": 5
}